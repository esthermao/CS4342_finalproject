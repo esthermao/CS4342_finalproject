{
 "cells": [
  {
   "cell_type": "markdown",
   "id": "64135cf4",
   "metadata": {},
   "source": [
    "# CS 4342 Final Project - Amazon Sales Marketing Data\n",
    "\n",
    "Analyzing the ratings of Amazon products"
   ]
  },
  {
   "cell_type": "code",
   "execution_count": 3,
   "id": "35c97031",
   "metadata": {},
   "outputs": [
    {
     "name": "stdout",
     "output_type": "stream",
     "text": [
      "Path to dataset files: C:\\Users\\asant\\.cache\\kagglehub\\datasets\\karkavelrajaj\\amazon-sales-dataset\\versions\\1\n"
     ]
    }
   ],
   "source": [
    "import kagglehub\n",
    "\n",
    "# Download latest version\n",
    "path = kagglehub.dataset_download(\"karkavelrajaj/amazon-sales-dataset\")\n",
    "\n",
    "print(\"Path to dataset files:\", path)"
   ]
  }
 ],
 "metadata": {
  "language_info": {
   "name": "python"
  }
 },
 "nbformat": 4,
 "nbformat_minor": 5
}
